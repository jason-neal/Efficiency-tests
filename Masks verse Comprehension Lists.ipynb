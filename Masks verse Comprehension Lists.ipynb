{
 "cells": [
  {
   "cell_type": "markdown",
   "metadata": {},
   "source": [
    "# Masks not Comprehension lists for Numpy Arrays\n",
    "\n",
    "Masks are are more efficient to use numpy arrays than list comprehension.\n",
    "Here I will show two places I have improved speed in inherited code.\n",
    "\n",
    "The first example is a function that selects a section out of a spectra specified by wavelength range. "
   ]
  },
  {
   "cell_type": "code",
   "execution_count": 86,
   "metadata": {
    "collapsed": true
   },
   "outputs": [],
   "source": [
    "import numpy as np\n",
    "from __future__ import division"
   ]
  },
  {
   "cell_type": "code",
   "execution_count": 28,
   "metadata": {
    "collapsed": true
   },
   "outputs": [],
   "source": [
    "def wav_selector(wav, flux, wav_min, wav_max):\n",
    "    \"\"\"\n",
    "    function that returns wavelength and flux within a given range\n",
    "    \"\"\"    \n",
    "    wav_sel = np.array([value for value in wav if(wav_min < value < wav_max)], dtype=\"float64\")\n",
    "    flux_sel = np.array([value[1] for value in zip(wav,flux) if(wav_min < value[0] < wav_max)], dtype=\"float64\")\n",
    "    \n",
    "    return [wav_sel, flux_sel]"
   ]
  },
  {
   "cell_type": "code",
   "execution_count": 29,
   "metadata": {
    "collapsed": false
   },
   "outputs": [],
   "source": [
    "Test_wav = np.linspace(2000,2200,300000)  # nm\n",
    "Test_flux = np.random.random(len(Test_wav)) # nm\n",
    "min_wav = 2050\n",
    "max_wav = 2170\n",
    "\n",
    "# If you had lists instead\n",
    "Test_list_wav = list(Test_wav)\n",
    "Test_list_flux = list(Test_flux)"
   ]
  },
  {
   "cell_type": "code",
   "execution_count": 30,
   "metadata": {
    "collapsed": false
   },
   "outputs": [
    {
     "name": "stdout",
     "output_type": "stream",
     "text": [
      "wav_selector with numpy inputs\n",
      "1 loop, best of 3: 253 ms per loop\n",
      "\n",
      "wav_selector list inputs\n",
      "1 loop, best of 3: 215 ms per loop\n"
     ]
    }
   ],
   "source": [
    "# Timing it running\n",
    "print(\"wav_selector with numpy inputs\")\n",
    "%timeit wav_selector(Test_wav, Test_flux, min_wav, max_wav)\n",
    "print(\"\\nwav_selector list inputs\")\n",
    "%timeit wav_selector(Test_list_wav, Test_list_flux, min_wav, max_wav)"
   ]
  },
  {
   "cell_type": "markdown",
   "metadata": {},
   "source": [
    "This is intesting that inputing lists is faster in this function than numpy arrays. Numpy arrays are built to be faster.\n",
    "\n",
    "Looking at the code in wav_selector we see it preforms a comphension list and turns it back into a numpy array. \n",
    "\n",
    "It also actively turns the input values into an array even though you could pass it lists.\n",
    "\n",
    "I have changed the function to use masks on the numpy arrays and to do list comprehension on lists. This avoids any time spent changing between the different data types.\n"
   ]
  },
  {
   "cell_type": "code",
   "execution_count": 31,
   "metadata": {
    "collapsed": true
   },
   "outputs": [],
   "source": [
    "# wav_selector using \n",
    "def fast_wav_selector(wav, flux, wav_min, wav_max):\n",
    "    \"\"\" Faster Wavelength selector\n",
    "    If passed lists it will return lists.\n",
    "    If passed np arrays it will return arrays\n",
    "    \"\"\"\n",
    "  \n",
    "    if isinstance(wav, list): # if passed lists\n",
    "          wav_sel = [value for value in wav if(wav_min < value < wav_max)]\n",
    "          flux_sel = [value[1] for value in zip(wav,flux) if(wav_min < value[0] < wav_max)]\n",
    "    \n",
    "    elif isinstance(wav, np.ndarray):\n",
    "        # Super Fast masking with numpy\n",
    "        mask = (wav > wav_min) & (wav < wav_max)\n",
    "        wav_sel = wav[mask]\n",
    "        flux_sel = flux[mask]\n",
    "    else:\n",
    "          raise TypeError(\"Unsupported input wav type\")\n",
    "    return [wav_sel, flux_sel]"
   ]
  },
  {
   "cell_type": "code",
   "execution_count": 32,
   "metadata": {
    "collapsed": false
   },
   "outputs": [
    {
     "name": "stdout",
     "output_type": "stream",
     "text": [
      "fast_wav_selector with numpy inputs\n",
      "1000 loops, best of 3: 970 µs per loop\n",
      "\n",
      "fast_wav_selector list inputs\n",
      "1 loop, best of 3: 195 ms per loop\n"
     ]
    }
   ],
   "source": [
    "print(\"fast_wav_selector with numpy inputs\")\n",
    "%timeit fast_wav_selector(Test_wav, Test_flux, min_wav, max_wav)\n",
    "\n",
    "print(\"\\nfast_wav_selector list inputs\")\n",
    "%timeit fast_wav_selector(Test_list_wav, Test_list_flux, min_wav, max_wav)"
   ]
  },
  {
   "cell_type": "markdown",
   "metadata": {},
   "source": [
    "We can see here that the numpy mask is about >100 X faster than the old version.\n",
    "\n",
    "Also when you input lists it runs slightly faster ~15% for this case."
   ]
  },
  {
   "cell_type": "markdown",
   "metadata": {},
   "source": [
    "# Convolution Example "
   ]
  },
  {
   "cell_type": "markdown",
   "metadata": {},
   "source": [
    "Here is another example that is part of a convolution to a desired Resolution(R). \n",
    "It gets ran for every wavelength value (wav) in the spectra which can be over 100,000 values. It was a large bottleneck in my research due to the comprehension lists. \n",
    "\n",
    "Lets see the preformance increase with masks."
   ]
  },
  {
   "cell_type": "code",
   "execution_count": 87,
   "metadata": {
    "collapsed": true
   },
   "outputs": [],
   "source": [
    "# Other function we need\n",
    "def unitary_Gauss(x, center, FWHM):\n",
    "    \"\"\"\n",
    "    Gaussian_function of area=1\n",
    "\t\n",
    "\tp[0] = A;\n",
    "\tp[1] = mean;\n",
    "\tp[2] = FWHM;\n",
    "    \"\"\"\n",
    "    \n",
    "    sigma = np.abs(FWHM) /( 2 * np.sqrt(2 * np.log(2)) );\n",
    "    Amp = 1.0 / (sigma*np.sqrt(2*np.pi))\n",
    "    tau = -((x - center)**2) / (2*(sigma**2))\n",
    "    result = Amp * np.exp( tau );\n",
    "    \n",
    "    return result"
   ]
  },
  {
   "cell_type": "code",
   "execution_count": 96,
   "metadata": {
    "collapsed": true
   },
   "outputs": [],
   "source": [
    "# This is the inner loop \n",
    "def convolve(wav, R, wav_extended, flux_extended, FWHM_lim):\n",
    "        FWHM = wav/R\n",
    "        \n",
    "        indexes = [ i for i in range(len(wav_extended)) if ((wav - FWHM_lim*FWHM) < wav_extended[i] < (wav + FWHM_lim*FWHM))]\n",
    "\n",
    "        flux_2convolve = flux_extended[indexes[0]:indexes[-1]+1]\n",
    "        IP = unitary_Gauss(wav_extended[indexes[0]:indexes[-1]+1], wav, FWHM)\n",
    "        \n",
    "        val = np.sum(IP*flux_2convolve) \n",
    "        unitary_val = np.sum(IP*np.ones_like(flux_2convolve))  # Effect of convolution onUnitary. For changing number of points\n",
    "        \n",
    "        return val/unitary_val"
   ]
  },
  {
   "cell_type": "code",
   "execution_count": 97,
   "metadata": {
    "collapsed": true
   },
   "outputs": [],
   "source": [
    "# This is the improved version with masks\n",
    "def fast_convolve(wav, R, wav_extended, flux_extended, FWHM_lim):\n",
    "    FWHM = wav/R\n",
    "    # Numpy mask\n",
    "    index_mask = (wav_extended > (wav - FWHM_lim*FWHM)) &  (wav_extended < (wav + FWHM_lim*FWHM))\n",
    "    \n",
    "    flux_2convolve = flux_extended[index_mask]\n",
    "    IP = unitary_Gauss(wav_extended[index_mask], wav, FWHM)\n",
    "    \n",
    "    val = np.sum(IP*flux_2convolve) \n",
    "    unitary_val = np.sum(IP*np.ones_like(flux_2convolve))  # Effect of convolution onUnitary. For changing number of points\n",
    "        \n",
    "    return val/unitary_val"
   ]
  },
  {
   "cell_type": "code",
   "execution_count": 109,
   "metadata": {
    "collapsed": false
   },
   "outputs": [],
   "source": [
    "# some Random test spectra\n",
    "wav_extended = np.linspace(2020,2040,10000)\n",
    "FWHM_lim=5\n",
    "R = 500000\n",
    "\n",
    "flux_extended = np.random.random(len(wav_extended)) + np.ones_like(wav_extended)\n",
    "\n",
    "wav = 2029. # one wave length value"
   ]
  },
  {
   "cell_type": "code",
   "execution_count": 110,
   "metadata": {
    "collapsed": false
   },
   "outputs": [
    {
     "name": "stdout",
     "output_type": "stream",
     "text": [
      "Convolution with comprehension list and indices\n",
      "100 loops, best of 3: 2.33 ms per loop\n",
      "Faster convolution with masks\n",
      "10000 loops, best of 3: 31.6 µs per loop\n"
     ]
    }
   ],
   "source": [
    "print(\"Convolution with comprehension list and indices\")\n",
    "%timeit convolve(wav, R, wav_extended, flux_extended, FWHM_lim)\n",
    "print(\"Faster convolution with masks\")\n",
    "%timeit fast_convolve(wav, R, wav_extended, flux_extended, FWHM_lim)"
   ]
  },
  {
   "cell_type": "markdown",
   "metadata": {},
   "source": [
    "That was for one time though the loop with a large differnce in speed. \n",
    "\n",
    "Now lets loop this over all the wavelength values and see the change in time of result\n",
    "\n",
    "I will also compare the affect of saving the result from each loop as a list or in a pre allocated numpy array."
   ]
  },
  {
   "cell_type": "code",
   "execution_count": 112,
   "metadata": {
    "collapsed": false
   },
   "outputs": [
    {
     "name": "stdout",
     "output_type": "stream",
     "text": [
      "1 loop, best of 3: 47.4 s per loop\n"
     ]
    }
   ],
   "source": [
    "%%timeit \n",
    "# Preallocating a numpy array is also faster than appending to a list\n",
    "flux_conv_res = np.empty_like(wav_extended)\n",
    "#print(\"Convolution with comprehension list and indices\")\n",
    "for i, wav in enumerate(wav_extended):\n",
    "    flux_conv_res[i] = convolve(wav, R, wav_extended, flux_extended, FWHM_lim)\n"
   ]
  },
  {
   "cell_type": "code",
   "execution_count": 113,
   "metadata": {
    "collapsed": false
   },
   "outputs": [
    {
     "name": "stdout",
     "output_type": "stream",
     "text": [
      "1 loop, best of 3: 332 ms per loop\n"
     ]
    }
   ],
   "source": [
    "%%timeit \n",
    "# Preallocating a numpy array is also faster than appending to a list \n",
    "flux_conv_res = np.empty_like(wav_extended)\n",
    "#print(\"Faster convolution with masks\")\n",
    "for i, wav in enumerate(wav_extended):\n",
    "    flux_conv_res = fast_convolve(wav, R, wav_extended, flux_extended, FWHM_lim)"
   ]
  },
  {
   "cell_type": "markdown",
   "metadata": {},
   "source": [
    "47s for comprehension verse 300ms for masks is around 150 times faster\n",
    "\n",
    "Shown below it is also much faster to preallocate the numpy array and then fill it up rather than to appending to the list every time."
   ]
  },
  {
   "cell_type": "code",
   "execution_count": null,
   "metadata": {
    "collapsed": false
   },
   "outputs": [],
   "source": [
    "%%timeit \n",
    "# Preallocating a numpy array is also faster than appending to a list in each loop but I won't show that now.\n",
    "flux_conv_res = []\n",
    "#print(\"Convolution with comprehension list and indices\")\n",
    "for i, wav in enumerate(wav_extended):\n",
    "    flux_conv_res.append(convolve(wav, R, wav_extended, flux_extended, FWHM_lim)) "
   ]
  },
  {
   "cell_type": "code",
   "execution_count": null,
   "metadata": {
    "collapsed": true
   },
   "outputs": [],
   "source": [
    "%%timeit \n",
    "flux_conv_res = []\n",
    "#print(\"Convolution with comprehension list and indices\")\n",
    "for i, wav in enumerate(wav_extended):\n",
    "    flux_conv_res.append(fast_convolve(wav, R, wav_extended, flux_extended, FWHM_lim)) "
   ]
  },
  {
   "cell_type": "code",
   "execution_count": null,
   "metadata": {
    "collapsed": true
   },
   "outputs": [],
   "source": []
  }
 ],
 "metadata": {
  "kernelspec": {
   "display_name": "Python 2",
   "language": "python",
   "name": "python2"
  },
  "language_info": {
   "codemirror_mode": {
    "name": "ipython",
    "version": 2
   },
   "file_extension": ".py",
   "mimetype": "text/x-python",
   "name": "python",
   "nbconvert_exporter": "python",
   "pygments_lexer": "ipython2",
   "version": "2.7.11"
  }
 },
 "nbformat": 4,
 "nbformat_minor": 0
}
